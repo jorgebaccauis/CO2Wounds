{
  "cells": [
    {
      "cell_type": "code",
      "execution_count": 1,
      "metadata": {
        "colab": {
          "base_uri": "https://localhost:8080/"
        },
        "id": "fyyFehLiveD3",
        "outputId": "2f45db8b-b3ed-45fb-f8f5-935f2bc78314"
      },
      "outputs": [
        {
          "output_type": "stream",
          "name": "stdout",
          "text": [
            "Cloning into 'CO2Dnet'...\n",
            "remote: Enumerating objects: 744, done.\u001b[K\n",
            "remote: Counting objects: 100% (29/29), done.\u001b[K\n",
            "remote: Compressing objects: 100% (24/24), done.\u001b[K\n",
            "remote: Total 744 (delta 6), reused 25 (delta 3), pack-reused 715\u001b[K\n",
            "Receiving objects: 100% (744/744), 641.90 MiB | 28.44 MiB/s, done.\n",
            "Resolving deltas: 100% (153/153), done.\n",
            "Checking out files: 100% (748/748), done.\n",
            "/content/CO2Dnet/unet-tf2\n"
          ]
        }
      ],
      "source": [
        "! git clone https://github.com/simatec-uis/CO2Dnet\n",
        "%cd CO2Dnet/unet-tf2/"
      ]
    },
    {
      "cell_type": "markdown",
      "metadata": {
        "id": "fbXQUqvp6fRe"
      },
      "source": [
        "### Step1: Detection Influence"
      ]
    },
    {
      "cell_type": "code",
      "execution_count": 2,
      "metadata": {
        "id": "QsZkIFDCwEUT"
      },
      "outputs": [],
      "source": [
        "import os\n",
        "import numpy as np \n",
        "import tensorflow as tf\n",
        "from unet_tf2.dataset import data_pipeline\n",
        "from unet_tf2.utils import build_data"
      ]
    },
    {
      "cell_type": "code",
      "execution_count": 7,
      "metadata": {
        "id": "g1YE4VKfwIeB"
      },
      "outputs": [],
      "source": [
        "features =  24\n",
        "levels =  5\n",
        "\n",
        "epochs = 10#@param\n",
        "batch_size =  8#@param\n",
        "learning_rate = 9e-4 #@param\n",
        "seed = 2202\n",
        "SIZE = 320\n",
        "RUN_ID = 9 #@param {type:\"slider\", min:0, max:9, step:1}\n",
        "\n",
        "\n",
        "calibration = False  #@param {type:\"boolean\"}\n",
        "pretraining = True  #@param {type:\"boolean\"}\n",
        "augmentation = True  #@param {type:\"boolean\"}\n",
        "\n",
        "dataset = f\"../data\"\n",
        "data_main = \"results\"\n",
        "\n",
        "  \n",
        "weigths_path = f'../{data_main}/weights/run={RUN_ID}.h5'\n",
        "tmp_weigths_path = f'/tmp/temp_run={RUN_ID}.h5'\n",
        "\n",
        "x_path = os.path.join(dataset, 'JPEGImages')\n",
        "y_path = os.path.join(dataset, 'Mask')\n",
        "\n",
        "train_path = os.path.join(dataset, 'ImageSets', 'Cross', f'train_{RUN_ID}.txt')\n",
        "val_path = os.path.join(dataset, 'ImageSets', 'Cross', f'val_{RUN_ID}.txt')"
      ]
    },
    {
      "cell_type": "code",
      "execution_count": 8,
      "metadata": {
        "id": "oXZwt7DKwO1q"
      },
      "outputs": [],
      "source": [
        "train_ds = build_data(x_path, y_path, train_path, Xextension='.jpg')\n",
        "validation_data = build_data(x_path, y_path, val_path, Xextension='.jpg')\n",
        "\n",
        "train_ds = tuple([  tf.data.Dataset.from_tensors(x).unbatch() for x in train_ds ])\n",
        "train_ds = data_pipeline(train_ds, augmented=augmentation, detection=True)\n",
        "\n",
        "val_ds = tuple([  tf.data.Dataset.from_tensors(x).unbatch() for x in validation_data ])\n",
        "val_ds = data_pipeline(val_ds, batch_size=1, augmented=False, detection=True)"
      ]
    },
    {
      "cell_type": "code",
      "execution_count": 9,
      "metadata": {
        "colab": {
          "base_uri": "https://localhost:8080/"
        },
        "id": "IozhAUn_wgV_",
        "outputId": "606b3f3a-3508-47a8-f592-f0f8cea06dd5"
      },
      "outputs": [
        {
          "output_type": "stream",
          "name": "stdout",
          "text": [
            "Model: \"Unet\"\n",
            "_________________________________________________________________\n",
            " Layer (type)                Output Shape              Param #   \n",
            "=================================================================\n",
            " input_2 (InputLayer)        [(None, 320, 320, 3)]     0         \n",
            "                                                                 \n",
            " unet_layer_1 (UnetLayer)    (None, 320, 320, 24)      17705832  \n",
            "                                                                 \n",
            " conv2d_45 (Conv2D)          (None, 320, 320, 1)       25        \n",
            "                                                                 \n",
            "=================================================================\n",
            "Total params: 17,705,857\n",
            "Trainable params: 17,696,833\n",
            "Non-trainable params: 9,024\n",
            "_________________________________________________________________\n"
          ]
        }
      ],
      "source": [
        "from unet_tf2.utils import build_data, iou_coef, dice_coef\n",
        "from unet_tf2.models.unet import Unet\n",
        "\n",
        "from tensorflow.keras.metrics import Precision, Recall\n",
        "from tensorflow.keras.callbacks import (\n",
        "    ReduceLROnPlateau,\n",
        "    ModelCheckpoint,\n",
        "    EarlyStopping)\n",
        "\n",
        "metrics = None\n",
        "model = Unet((SIZE, SIZE, 3),  features, levels)\n",
        "\n",
        "callbacks = [ReduceLROnPlateau(verbose=1,\n",
        "                              patience=20,         \n",
        "                              factor=0.98, \n",
        "                              monitor='loss'),\n",
        "             ModelCheckpoint(tmp_weigths_path,\n",
        "                             monitor='val_dice_coef',\n",
        "                             save_best_only=True,\n",
        "                             save_weights_only=True,\n",
        "                             mode='max')]\n",
        "\n",
        "optimizer = tf.keras.optimizers.Adam(learning_rate)\n",
        "model.compile(optimizer=optimizer, loss='binary_crossentropy', metrics=[ dice_coef, Precision(), Recall(), 'accuracy'])\n",
        "model.summary()"
      ]
    },
    {
      "cell_type": "code",
      "execution_count": 10,
      "metadata": {
        "colab": {
          "base_uri": "https://localhost:8080/"
        },
        "id": "AhohE-5BxKlO",
        "outputId": "26f422b3-88f9-4b27-fdc0-9969de0bb9c5"
      },
      "outputs": [
        {
          "output_type": "stream",
          "name": "stdout",
          "text": [
            "Epoch 1/10\n",
            "15/15 [==============================] - 13s 431ms/step - loss: 1.8217 - dice_coef: 0.6664 - precision_1: 0.7358 - recall_1: 0.7046 - accuracy: 0.7558 - val_loss: 1.5255 - val_dice_coef: 0.7236 - val_precision_1: 0.7869 - val_recall_1: 0.7697 - val_accuracy: 0.7856 - lr: 9.0000e-04\n",
            "Epoch 2/10\n",
            "15/15 [==============================] - 4s 293ms/step - loss: 0.7467 - dice_coef: 0.7348 - precision_1: 0.8273 - recall_1: 0.7296 - accuracy: 0.8086 - val_loss: 0.9046 - val_dice_coef: 0.7502 - val_precision_1: 0.7788 - val_recall_1: 0.8104 - val_accuracy: 0.7911 - lr: 9.0000e-04\n",
            "Epoch 3/10\n",
            "15/15 [==============================] - 4s 283ms/step - loss: 0.4097 - dice_coef: 0.7489 - precision_1: 0.8665 - recall_1: 0.7241 - accuracy: 0.8262 - val_loss: 0.5054 - val_dice_coef: 0.7211 - val_precision_1: 0.7574 - val_recall_1: 0.7719 - val_accuracy: 0.7664 - lr: 9.0000e-04\n",
            "Epoch 4/10\n",
            "15/15 [==============================] - 4s 276ms/step - loss: 0.3272 - dice_coef: 0.7621 - precision_1: 0.8603 - recall_1: 0.7512 - accuracy: 0.8397 - val_loss: 0.6088 - val_dice_coef: 0.4969 - val_precision_1: 0.7442 - val_recall_1: 0.4668 - val_accuracy: 0.6748 - lr: 9.0000e-04\n",
            "Epoch 5/10\n",
            "15/15 [==============================] - 4s 276ms/step - loss: 0.3221 - dice_coef: 0.7724 - precision_1: 0.8811 - recall_1: 0.7536 - accuracy: 0.8452 - val_loss: 0.4983 - val_dice_coef: 0.7316 - val_precision_1: 0.8119 - val_recall_1: 0.7346 - val_accuracy: 0.7885 - lr: 9.0000e-04\n",
            "Epoch 6/10\n",
            "15/15 [==============================] - 4s 297ms/step - loss: 0.3001 - dice_coef: 0.7937 - precision_1: 0.8859 - recall_1: 0.7820 - accuracy: 0.8514 - val_loss: 0.4540 - val_dice_coef: 0.7660 - val_precision_1: 0.8167 - val_recall_1: 0.7991 - val_accuracy: 0.8119 - lr: 9.0000e-04\n",
            "Epoch 7/10\n",
            "15/15 [==============================] - 4s 296ms/step - loss: 0.2793 - dice_coef: 0.7973 - precision_1: 0.8824 - recall_1: 0.8040 - accuracy: 0.8592 - val_loss: 0.4059 - val_dice_coef: 0.7744 - val_precision_1: 0.8228 - val_recall_1: 0.8110 - val_accuracy: 0.8183 - lr: 9.0000e-04\n",
            "Epoch 8/10\n",
            "15/15 [==============================] - 5s 305ms/step - loss: 0.2631 - dice_coef: 0.8156 - precision_1: 0.8973 - recall_1: 0.8194 - accuracy: 0.8687 - val_loss: 0.3934 - val_dice_coef: 0.7773 - val_precision_1: 0.8261 - val_recall_1: 0.8157 - val_accuracy: 0.8216 - lr: 9.0000e-04\n",
            "Epoch 9/10\n",
            "15/15 [==============================] - 5s 302ms/step - loss: 0.2431 - dice_coef: 0.8207 - precision_1: 0.8942 - recall_1: 0.8371 - accuracy: 0.8772 - val_loss: 0.3846 - val_dice_coef: 0.7774 - val_precision_1: 0.8380 - val_recall_1: 0.8021 - val_accuracy: 0.8250 - lr: 9.0000e-04\n",
            "Epoch 10/10\n",
            "15/15 [==============================] - 4s 299ms/step - loss: 0.2332 - dice_coef: 0.8280 - precision_1: 0.9127 - recall_1: 0.8260 - accuracy: 0.8818 - val_loss: 0.3799 - val_dice_coef: 0.7794 - val_precision_1: 0.8541 - val_recall_1: 0.7949 - val_accuracy: 0.8338 - lr: 9.0000e-04\n"
          ]
        }
      ],
      "source": [
        "if pretraining:\n",
        "  model.load_weights(weigths_path)\n",
        "  \n",
        "model.fit(train_ds, epochs=epochs,  callbacks=callbacks, validation_data=val_ds)\n",
        "model.load_weights(tmp_weigths_path)"
      ]
    },
    {
      "cell_type": "code",
      "execution_count": 11,
      "metadata": {
        "colab": {
          "base_uri": "https://localhost:8080/",
          "height": 1000
        },
        "id": "d6NEFSgUY6M5",
        "outputId": "581589d1-e8e6-4150-b3fe-aa77b59f8cb4"
      },
      "outputs": [
        {
          "output_type": "stream",
          "name": "stdout",
          "text": [
            "1/1 [==============================] - 0s 438ms/step\n"
          ]
        },
        {
          "output_type": "display_data",
          "data": {
            "text/plain": [
              "<Figure size 432x288 with 1 Axes>"
            ],
            "image/png": "[encoded data removed]"
          },
          "metadata": {
            "needs_background": "light"
          }
        },
        {
          "output_type": "stream",
          "name": "stdout",
          "text": [
            "../results/predictions/run9/segmented_0.png\n",
            "1/1 [==============================] - 0s 28ms/step\n"
          ]
        },
        {
          "output_type": "display_data",
          "data": {
            "text/plain": [
              "<Figure size 432x288 with 1 Axes>"
            ],
            "image/png": "[encoded data removed]"
          },
          "metadata": {
            "needs_background": "light"
          }
        },
        {
          "output_type": "stream",
          "name": "stdout",
          "text": [
            "../results/predictions/run9/segmented_1.png\n",
            "1/1 [==============================] - 0s 23ms/step\n"
          ]
        },
        {
          "output_type": "display_data",
          "data": {
            "text/plain": [
              "<Figure size 432x288 with 1 Axes>"
            ],
            "image/png": "[encoded data removed]"
          },
          "metadata": {
            "needs_background": "light"
          }
        },
        {
          "output_type": "stream",
          "name": "stdout",
          "text": [
            "../results/predictions/run9/segmented_2.png\n",
            "1/1 [==============================] - 0s 21ms/step\n"
          ]
        },
        {
          "output_type": "display_data",
          "data": {
            "text/plain": [
              "<Figure size 432x288 with 1 Axes>"
            ],
            "image/png": "[encoded data removed]"
          },
          "metadata": {
            "needs_background": "light"
          }
        },
        {
          "output_type": "stream",
          "name": "stdout",
          "text": [
            "../results/predictions/run9/segmented_3.png\n",
            "1/1 [==============================] - 0s 19ms/step\n"
          ]
        },
        {
          "output_type": "display_data",
          "data": {
            "text/plain": [
              "<Figure size 432x288 with 1 Axes>"
            ],
            "image/png": "[encoded data removed]"
          },
          "metadata": {
            "needs_background": "light"
          }
        },
        {
          "output_type": "stream",
          "name": "stdout",
          "text": [
            "../results/predictions/run9/segmented_4.png\n",
            "1/1 [==============================] - 0s 20ms/step\n"
          ]
        },
        {
          "output_type": "display_data",
          "data": {
            "text/plain": [
              "<Figure size 432x288 with 1 Axes>"
            ],
            "image/png": "[encoded data removed]"
          },
          "metadata": {
            "needs_background": "light"
          }
        },
        {
          "output_type": "stream",
          "name": "stdout",
          "text": [
            "../results/predictions/run9/segmented_5.png\n",
            "1/1 [==============================] - 0s 95ms/step\n"
          ]
        },
        {
          "output_type": "display_data",
          "data": {
            "text/plain": [
              "<Figure size 432x288 with 1 Axes>"
            ],
            "image/png": "[encoded data removed]"
          },
          "metadata": {
            "needs_background": "light"
          }
        },
        {
          "output_type": "stream",
          "name": "stdout",
          "text": [
            "../results/predictions/run9/segmented_6.png\n",
            "1/1 [==============================] - 0s 22ms/step\n"
          ]
        },
        {
          "output_type": "display_data",
          "data": {
            "text/plain": [
              "<Figure size 432x288 with 1 Axes>"
            ],
            "image/png": "[encoded data removed]"
          },
          "metadata": {
            "needs_background": "light"
          }
        },
        {
          "output_type": "stream",
          "name": "stdout",
          "text": [
            "../results/predictions/run9/segmented_7.png\n",
            "1/1 [==============================] - 0s 31ms/step\n"
          ]
        },
        {
          "output_type": "display_data",
          "data": {
            "text/plain": [
              "<Figure size 432x288 with 1 Axes>"
            ],
            "image/png": "[encoded data removed]"
          },
          "metadata": {
            "needs_background": "light"
          }
        },
        {
          "output_type": "stream",
          "name": "stdout",
          "text": [
            "../results/predictions/run9/segmented_8.png\n",
            "1/1 [==============================] - 0s 19ms/step\n"
          ]
        },
        {
          "output_type": "display_data",
          "data": {
            "text/plain": [
              "<Figure size 432x288 with 1 Axes>"
            ],
            "image/png": "[encoded data removed]"
          },
          "metadata": {
            "needs_background": "light"
          }
        },
        {
          "output_type": "stream",
          "name": "stdout",
          "text": [
            "../results/predictions/run9/segmented_9.png\n",
            "1/1 [==============================] - 0s 19ms/step\n"
          ]
        },
        {
          "output_type": "display_data",
          "data": {
            "text/plain": [
              "<Figure size 432x288 with 1 Axes>"
            ],
            "image/png": "[encoded data removed]"
          },
          "metadata": {
            "needs_background": "light"
          }
        },
        {
          "output_type": "stream",
          "name": "stdout",
          "text": [
            "../results/predictions/run9/segmented_10.png\n",
            "1/1 [==============================] - 0s 19ms/step\n"
          ]
        },
        {
          "output_type": "display_data",
          "data": {
            "text/plain": [
              "<Figure size 432x288 with 1 Axes>"
            ],
            "image/png": "[encoded data removed]"
          },
          "metadata": {
            "needs_background": "light"
          }
        },
        {
          "output_type": "stream",
          "name": "stdout",
          "text": [
            "../results/predictions/run9/segmented_11.png\n",
            "1/1 [==============================] - 0s 21ms/step\n"
          ]
        },
        {
          "output_type": "display_data",
          "data": {
            "text/plain": [
              "<Figure size 432x288 with 1 Axes>"
            ],
            "image/png": "[encoded data removed]"
          },
          "metadata": {
            "needs_background": "light"
          }
        },
        {
          "output_type": "stream",
          "name": "stdout",
          "text": [
            "../results/predictions/run9/segmented_12.png\n"
          ]
        }
      ],
      "source": [
        "import cv2\n",
        "import matplotlib.pyplot as plt \n",
        "from unet_tf2.dataset import get_coords\n",
        "\n",
        "MODE = \"predictions\"\n",
        "\n",
        "save_folder = os.path.join(\"..\", data_main, MODE)\n",
        "save_path = os.path.join(save_folder, f\"run{RUN_ID}\")\n",
        "\n",
        "if not os.path.exists(save_folder):\n",
        "  os.mkdir(save_folder)\n",
        "\n",
        "if not os.path.exists(save_path):\n",
        "  os.mkdir(save_path)\n",
        "  \n",
        "\n",
        "val_ds = tuple([  tf.data.Dataset.from_tensors(x).unbatch() for x in validation_data ])\n",
        "val_ds = data_pipeline(val_ds, batch_size=1, augmented=False, detection=True, original=True)\n",
        "\n",
        "id = 0;\n",
        "for sample in val_ds:\n",
        "\n",
        "  x, (y_crop, y) = sample\n",
        "\n",
        "\n",
        "  cord_h, cord_w, h_size, w_size = get_coords(y[0])\n",
        "\n",
        "\n",
        "  y_pred = model.predict(x)\n",
        "  y_pred = tf.image.resize(y_pred, [h_size, w_size] )\n",
        "  y_pred = y_pred.numpy()\n",
        "  y_pred = 1*(y_pred > 0.5)\n",
        "  temp = np.uint8( y_pred[0]*255 )\n",
        "\n",
        "  y_pred = np.zeros( y.shape )\n",
        "  y_pred[:, cord_h:cord_h+h_size, cord_w:cord_w+w_size] = temp\n",
        "  y_pred = y_pred[0,..., 0]\n",
        "\n",
        "  plt.imshow(y_pred)\n",
        "  plt.show()\n",
        "\n",
        "  img_save = f\"segmented_{id}.png\"\n",
        "  img_path = os.path.join(save_path, img_save)\n",
        "\n",
        "  print(img_path)\n",
        "  cv2.imwrite(img_path, y_pred)\n",
        "\n",
        "  id = id+1"
      ]
    },
    {
      "cell_type": "code",
      "execution_count": 14,
      "metadata": {
        "colab": {
          "base_uri": "https://localhost:8080/"
        },
        "id": "Retydfih0bHL",
        "outputId": "6ad78b39-8eaa-4ae9-a964-3c1238877898"
      },
      "outputs": [
        {
          "output_type": "stream",
          "name": "stdout",
          "text": [
            "/content/CO2Dnet\n",
            "python3: can't open file 'save_results.py': [Errno 2] No such file or directory\n"
          ]
        }
      ],
      "source": [
        "%cd  ..\n",
        "!python save_results.py --mode {MODE} --runid {RUN_ID}"
      ]
    },
    {
      "cell_type": "code",
      "source": [
        "! ls"
      ],
      "metadata": {
        "id": "BZymF_faE5GQ",
        "outputId": "bd29fc2e-ad51-47da-ff6c-1397a61790e2",
        "colab": {
          "base_uri": "https://localhost:8080/"
        }
      },
      "execution_count": 13,
      "outputs": [
        {
          "output_type": "stream",
          "name": "stdout",
          "text": [
            "ground_truth  predictions  predictions.txt  save_results.py  weights\n"
          ]
        }
      ]
    },
    {
      "cell_type": "code",
      "source": [],
      "metadata": {
        "id": "pgpHTYG8E5ca"
      },
      "execution_count": null,
      "outputs": []
    }
  ],
  "metadata": {
    "accelerator": "GPU",
    "colab": {
      "provenance": []
    },
    "gpuClass": "standard",
    "kernelspec": {
      "display_name": "Python 3",
      "name": "python3"
    },
    "language_info": {
      "name": "python"
    }
  },
  "nbformat": 4,
  "nbformat_minor": 0
}